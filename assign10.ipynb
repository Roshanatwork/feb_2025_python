{
 "cells": [
  {
   "cell_type": "code",
   "execution_count": null,
   "id": "30506fc9",
   "metadata": {},
   "outputs": [],
   "source": [
    "- Basic represenations\n",
    "\n",
    "- min max len\n",
    "\n",
    "- sorted  \n",
    "\n",
    "- reveresd\n",
    "\n",
    "- concatenation"
   ]
  },
  {
   "cell_type": "code",
   "execution_count": 1,
   "id": "e9905cc6",
   "metadata": {},
   "outputs": [],
   "source": [
    "s='hi'\n",
    "s1=\"hi\"\n",
    "s2='''hi'''\n",
    "s3=\"12345\""
   ]
  },
  {
   "cell_type": "code",
   "execution_count": 4,
   "id": "34a83229",
   "metadata": {},
   "outputs": [
    {
     "name": "stdout",
     "output_type": "stream",
     "text": [
      "6\n"
     ]
    }
   ],
   "source": [
    "#min max len\n",
    "s=\"python\"\n",
    "l=len(s)\n",
    "print(l)"
   ]
  },
  {
   "cell_type": "code",
   "execution_count": 6,
   "id": "2e6f0377",
   "metadata": {},
   "outputs": [
    {
     "name": "stdout",
     "output_type": "stream",
     "text": [
      "h\n"
     ]
    }
   ],
   "source": [
    "print(min(s)) "
   ]
  },
  {
   "cell_type": "code",
   "execution_count": 7,
   "id": "afba511e",
   "metadata": {},
   "outputs": [
    {
     "name": "stdout",
     "output_type": "stream",
     "text": [
      "y\n"
     ]
    }
   ],
   "source": [
    "print(max(s)) "
   ]
  },
  {
   "cell_type": "code",
   "execution_count": 8,
   "id": "2cf739b2",
   "metadata": {},
   "outputs": [
    {
     "name": "stdout",
     "output_type": "stream",
     "text": [
      "3\n",
      "9\n"
     ]
    }
   ],
   "source": [
    "s = \"4389\"\n",
    "print(min(s))  # '3'\n",
    "print(max(s)) "
   ]
  },
  {
   "cell_type": "code",
   "execution_count": 12,
   "id": "0d91650e",
   "metadata": {},
   "outputs": [
    {
     "name": "stdout",
     "output_type": "stream",
     "text": [
      "['a', 'a', 'a', 'b', 'n', 'n']\n",
      "a a a b n n\n"
     ]
    }
   ],
   "source": [
    "#sorted\n",
    "s=\"banana\"\n",
    "print(sorted(s))\n",
    "print(\" \".join(sorted(s)))   #ascending order"
   ]
  },
  {
   "cell_type": "code",
   "execution_count": 13,
   "id": "f2414ec5",
   "metadata": {},
   "outputs": [
    {
     "name": "stdout",
     "output_type": "stream",
     "text": [
      "n n b a a a\n"
     ]
    }
   ],
   "source": [
    "print(\" \".join(sorted(s,reverse=True)))    #descending order"
   ]
  },
  {
   "cell_type": "code",
   "execution_count": 14,
   "id": "59857905",
   "metadata": {},
   "outputs": [
    {
     "data": {
      "text/plain": [
       "'nohtyp'"
      ]
     },
     "execution_count": 14,
     "metadata": {},
     "output_type": "execute_result"
    }
   ],
   "source": [
    "#reversed\n",
    "s=\"python\"\n",
    "s[::-1]"
   ]
  },
  {
   "cell_type": "code",
   "execution_count": 15,
   "id": "b1948dce",
   "metadata": {},
   "outputs": [
    {
     "name": "stdout",
     "output_type": "stream",
     "text": [
      "n o h t y p\n"
     ]
    }
   ],
   "source": [
    "print(\" \".join(reversed(s)))"
   ]
  },
  {
   "cell_type": "code",
   "execution_count": 16,
   "id": "288fe116",
   "metadata": {},
   "outputs": [
    {
     "data": {
      "text/plain": [
       "'helloworld'"
      ]
     },
     "execution_count": 16,
     "metadata": {},
     "output_type": "execute_result"
    }
   ],
   "source": [
    "#string concatination +\n",
    "s1=\"hello\"\n",
    "s2=\"world\"\n",
    "s1+s2"
   ]
  },
  {
   "cell_type": "code",
   "execution_count": 17,
   "id": "f3858bc6",
   "metadata": {},
   "outputs": [
    {
     "data": {
      "text/plain": [
       "'hello world'"
      ]
     },
     "execution_count": 17,
     "metadata": {},
     "output_type": "execute_result"
    }
   ],
   "source": [
    "s1+\" \"+s2"
   ]
  },
  {
   "cell_type": "code",
   "execution_count": 19,
   "id": "c47870fe",
   "metadata": {},
   "outputs": [
    {
     "name": "stdout",
     "output_type": "stream",
     "text": [
      "hello world\n"
     ]
    }
   ],
   "source": [
    "print(\" \".join([s1,s2])) #takes only 1 arg so take 1 list"
   ]
  },
  {
   "cell_type": "code",
   "execution_count": null,
   "id": "85101f88",
   "metadata": {},
   "outputs": [],
   "source": []
  }
 ],
 "metadata": {
  "kernelspec": {
   "display_name": "Python 3 (ipykernel)",
   "language": "python",
   "name": "python3"
  },
  "language_info": {
   "codemirror_mode": {
    "name": "ipython",
    "version": 3
   },
   "file_extension": ".py",
   "mimetype": "text/x-python",
   "name": "python",
   "nbconvert_exporter": "python",
   "pygments_lexer": "ipython3",
   "version": "3.11.4"
  }
 },
 "nbformat": 4,
 "nbformat_minor": 5
}
