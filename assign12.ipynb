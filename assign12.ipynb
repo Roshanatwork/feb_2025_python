{
 "cells": [
  {
   "cell_type": "code",
   "execution_count": null,
   "id": "8ad66931",
   "metadata": {},
   "outputs": [],
   "source": [
    "- upper\n",
    "\n",
    "- lower\n",
    "\n",
    "- title\n",
    "\n",
    "- capitalize\n",
    "\n",
    "- casefold\n",
    "\n",
    "- center\n",
    "\n",
    "- rstrip\n",
    "\n",
    "- lstrip\n",
    "\n",
    "- strip\n",
    "\n",
    "- startswith\n",
    "\n",
    "- endswith"
   ]
  },
  {
   "cell_type": "code",
   "execution_count": 2,
   "id": "5e39398f",
   "metadata": {},
   "outputs": [],
   "source": [
    "str1=\"hello world\""
   ]
  },
  {
   "cell_type": "code",
   "execution_count": 3,
   "id": "491df36e",
   "metadata": {},
   "outputs": [
    {
     "data": {
      "text/plain": [
       "'HELLO WORLD'"
      ]
     },
     "execution_count": 3,
     "metadata": {},
     "output_type": "execute_result"
    }
   ],
   "source": [
    "str1.upper()"
   ]
  },
  {
   "cell_type": "code",
   "execution_count": 4,
   "id": "93063c45",
   "metadata": {},
   "outputs": [
    {
     "data": {
      "text/plain": [
       "'hello world'"
      ]
     },
     "execution_count": 4,
     "metadata": {},
     "output_type": "execute_result"
    }
   ],
   "source": [
    "str1.lower()"
   ]
  },
  {
   "cell_type": "code",
   "execution_count": 5,
   "id": "0a514f15",
   "metadata": {},
   "outputs": [
    {
     "data": {
      "text/plain": [
       "'Hello World'"
      ]
     },
     "execution_count": 5,
     "metadata": {},
     "output_type": "execute_result"
    }
   ],
   "source": [
    "str1.title()"
   ]
  },
  {
   "cell_type": "code",
   "execution_count": 6,
   "id": "832c8a3b",
   "metadata": {},
   "outputs": [
    {
     "data": {
      "text/plain": [
       "'Hello world'"
      ]
     },
     "execution_count": 6,
     "metadata": {},
     "output_type": "execute_result"
    }
   ],
   "source": [
    "str1.capitalize()"
   ]
  },
  {
   "cell_type": "code",
   "execution_count": 7,
   "id": "c629c381",
   "metadata": {},
   "outputs": [
    {
     "data": {
      "text/plain": [
       "'hello world'"
      ]
     },
     "execution_count": 7,
     "metadata": {},
     "output_type": "execute_result"
    }
   ],
   "source": [
    "str1.casefold()"
   ]
  },
  {
   "cell_type": "code",
   "execution_count": 9,
   "id": "7f579eda",
   "metadata": {},
   "outputs": [
    {
     "name": "stdout",
     "output_type": "stream",
     "text": [
      "hello ss\n"
     ]
    }
   ],
   "source": [
    "text = \"HELLO ß\"\n",
    "print(text.casefold()) "
   ]
  },
  {
   "cell_type": "code",
   "execution_count": 8,
   "id": "abce4fcd",
   "metadata": {},
   "outputs": [
    {
     "ename": "TypeError",
     "evalue": "center expected at least 1 argument, got 0",
     "output_type": "error",
     "traceback": [
      "\u001b[1;31m---------------------------------------------------------------------------\u001b[0m",
      "\u001b[1;31mTypeError\u001b[0m                                 Traceback (most recent call last)",
      "Cell \u001b[1;32mIn[8], line 1\u001b[0m\n\u001b[1;32m----> 1\u001b[0m str1\u001b[38;5;241m.\u001b[39mcenter()\n",
      "\u001b[1;31mTypeError\u001b[0m: center expected at least 1 argument, got 0"
     ]
    }
   ],
   "source": [
    "str1.center()"
   ]
  },
  {
   "cell_type": "code",
   "execution_count": 11,
   "id": "ca5235d8",
   "metadata": {},
   "outputs": [
    {
     "data": {
      "text/plain": [
       "'----hello world-----'"
      ]
     },
     "execution_count": 11,
     "metadata": {},
     "output_type": "execute_result"
    }
   ],
   "source": [
    "str1.center(20,\"-\")"
   ]
  },
  {
   "cell_type": "code",
   "execution_count": 13,
   "id": "c5cb5786",
   "metadata": {},
   "outputs": [
    {
     "data": {
      "text/plain": [
       "'hello'"
      ]
     },
     "execution_count": 13,
     "metadata": {},
     "output_type": "execute_result"
    }
   ],
   "source": [
    "text=\"hello           \"\n",
    "text.rstrip()"
   ]
  },
  {
   "cell_type": "code",
   "execution_count": 14,
   "id": "8c8f9e15",
   "metadata": {},
   "outputs": [
    {
     "data": {
      "text/plain": [
       "'hello@'"
      ]
     },
     "execution_count": 14,
     "metadata": {},
     "output_type": "execute_result"
    }
   ],
   "source": [
    "text.rstrip()+\"@\""
   ]
  },
  {
   "cell_type": "code",
   "execution_count": 15,
   "id": "7976a1da",
   "metadata": {},
   "outputs": [
    {
     "data": {
      "text/plain": [
       "'world'"
      ]
     },
     "execution_count": 15,
     "metadata": {},
     "output_type": "execute_result"
    }
   ],
   "source": [
    "text=\"                  world\"\n",
    "text.lstrip()"
   ]
  },
  {
   "cell_type": "code",
   "execution_count": 16,
   "id": "caf8e714",
   "metadata": {},
   "outputs": [
    {
     "data": {
      "text/plain": [
       "'world@'"
      ]
     },
     "execution_count": 16,
     "metadata": {},
     "output_type": "execute_result"
    }
   ],
   "source": [
    "text.lstrip()+\"@\""
   ]
  },
  {
   "cell_type": "code",
   "execution_count": 17,
   "id": "2b0dba20",
   "metadata": {},
   "outputs": [
    {
     "data": {
      "text/plain": [
       "'hi'"
      ]
     },
     "execution_count": 17,
     "metadata": {},
     "output_type": "execute_result"
    }
   ],
   "source": [
    "text=\"                         hi                       \"\n",
    "text.strip()"
   ]
  },
  {
   "cell_type": "code",
   "execution_count": 18,
   "id": "bf563e5c",
   "metadata": {},
   "outputs": [
    {
     "data": {
      "text/plain": [
       "'hi@'"
      ]
     },
     "execution_count": 18,
     "metadata": {},
     "output_type": "execute_result"
    }
   ],
   "source": [
    "text.strip()+\"@\""
   ]
  },
  {
   "cell_type": "code",
   "execution_count": 20,
   "id": "4211ccdd",
   "metadata": {},
   "outputs": [
    {
     "data": {
      "text/plain": [
       "True"
      ]
     },
     "execution_count": 20,
     "metadata": {},
     "output_type": "execute_result"
    }
   ],
   "source": [
    "text=\"hello worls\"\n",
    "text.startswith(\"hello\")"
   ]
  },
  {
   "cell_type": "code",
   "execution_count": 21,
   "id": "37ede4a4",
   "metadata": {},
   "outputs": [
    {
     "data": {
      "text/plain": [
       "True"
      ]
     },
     "execution_count": 21,
     "metadata": {},
     "output_type": "execute_result"
    }
   ],
   "source": [
    "text=\"hello worls\"\n",
    "text.endswith(\"worls\")"
   ]
  },
  {
   "cell_type": "code",
   "execution_count": null,
   "id": "3d151e02",
   "metadata": {},
   "outputs": [],
   "source": []
  }
 ],
 "metadata": {
  "kernelspec": {
   "display_name": "Python 3 (ipykernel)",
   "language": "python",
   "name": "python3"
  },
  "language_info": {
   "codemirror_mode": {
    "name": "ipython",
    "version": 3
   },
   "file_extension": ".py",
   "mimetype": "text/x-python",
   "name": "python",
   "nbconvert_exporter": "python",
   "pygments_lexer": "ipython3",
   "version": "3.11.4"
  }
 },
 "nbformat": 4,
 "nbformat_minor": 5
}
