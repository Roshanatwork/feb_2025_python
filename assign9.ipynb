{
 "cells": [
  {
   "cell_type": "markdown",
   "id": "5e4c8dfb",
   "metadata": {},
   "source": [
    "*while loop*"
   ]
  },
  {
   "cell_type": "code",
   "execution_count": 2,
   "id": "ce8b257f",
   "metadata": {},
   "outputs": [
    {
     "name": "stdout",
     "output_type": "stream",
     "text": [
      "1\n",
      "2\n",
      "3\n",
      "4\n",
      "5\n",
      "6\n",
      "7\n",
      "8\n",
      "9\n",
      "10\n"
     ]
    }
   ],
   "source": [
    "#1 to 10\n",
    "i=1\n",
    "while i<=10:\n",
    "    print(i)\n",
    "    i += 1"
   ]
  },
  {
   "cell_type": "code",
   "execution_count": 3,
   "id": "fcbae396",
   "metadata": {},
   "outputs": [
    {
     "name": "stdout",
     "output_type": "stream",
     "text": [
      "10\n",
      "9\n",
      "8\n",
      "7\n",
      "6\n",
      "5\n",
      "4\n",
      "3\n",
      "2\n",
      "1\n"
     ]
    }
   ],
   "source": [
    "#10 to 1\n",
    "i=10\n",
    "while i>=1:\n",
    "    print(i)\n",
    "    i -= 1"
   ]
  },
  {
   "cell_type": "code",
   "execution_count": 4,
   "id": "4f96596c",
   "metadata": {},
   "outputs": [
    {
     "name": "stdout",
     "output_type": "stream",
     "text": [
      "2\n",
      "4\n",
      "6\n",
      "8\n",
      "10\n",
      "12\n",
      "14\n",
      "16\n",
      "18\n",
      "20\n"
     ]
    }
   ],
   "source": [
    "#Print even numbers from 2 to 20\n",
    "i=2\n",
    "while i<=20:\n",
    "    print(i)\n",
    "    i += 2"
   ]
  },
  {
   "cell_type": "code",
   "execution_count": 8,
   "id": "00260bb4",
   "metadata": {},
   "outputs": [
    {
     "name": "stdout",
     "output_type": "stream",
     "text": [
      "15\n"
     ]
    }
   ],
   "source": [
    "# Sum of first N natural numbers\n",
    "i=1\n",
    "n=5\n",
    "summ=0\n",
    "while i<=n:\n",
    "\n",
    "    summ += i\n",
    "    i += 1\n",
    "print(summ)   #1+2+3+4+5=15"
   ]
  },
  {
   "cell_type": "code",
   "execution_count": 10,
   "id": "e30d2a1a",
   "metadata": {},
   "outputs": [
    {
     "name": "stdout",
     "output_type": "stream",
     "text": [
      "4321\n"
     ]
    }
   ],
   "source": [
    "#Reverse a number\n",
    "num=1234\n",
    "rev=0\n",
    "while num>0:\n",
    "    rev=rev*10+num%10\n",
    "    num//=10\n",
    "print(rev)"
   ]
  },
  {
   "cell_type": "code",
   "execution_count": null,
   "id": "dedc82c9",
   "metadata": {},
   "outputs": [],
   "source": [
    "# Count digits in a number\n",
    "\n",
    "num = 123456\n",
    "count = 0\n",
    "while num > 0:\n",
    "    count += 1\n",
    "    num //= 10\n",
    "print(\"Number of digits:\", count)"
   ]
  },
  {
   "cell_type": "code",
   "execution_count": null,
   "id": "be265b5c",
   "metadata": {},
   "outputs": [],
   "source": []
  }
 ],
 "metadata": {
  "kernelspec": {
   "display_name": "Python 3 (ipykernel)",
   "language": "python",
   "name": "python3"
  },
  "language_info": {
   "codemirror_mode": {
    "name": "ipython",
    "version": 3
   },
   "file_extension": ".py",
   "mimetype": "text/x-python",
   "name": "python",
   "nbconvert_exporter": "python",
   "pygments_lexer": "ipython3",
   "version": "3.11.4"
  }
 },
 "nbformat": 4,
 "nbformat_minor": 5
}
