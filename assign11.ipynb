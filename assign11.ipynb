{
 "cells": [
  {
   "cell_type": "code",
   "execution_count": null,
   "id": "848c86c0",
   "metadata": {},
   "outputs": [],
   "source": [
    "# Q4) write a progarm to find the indexes of 'a' in a given string\n",
    "#     str1='ola ola ola'\n",
    "\n",
    "# Q5) write a program to find the sum of all indexes of 'a' in a given string\n",
    "#    str1='ola ola ola'\n",
    "\n",
    "# Q6) write a progarm to find the number of 'a' in a given string\n",
    "#    str1='ola ola ola'\n",
    "\n",
    "# Q7) write a progarm to find the vowels and its count in a given string\n",
    "#    str1='hai how are you'\n",
    "\n",
    "# Q8) write a progarm to find the vowels which are repaeting then print only\n",
    "#     one time\n",
    "#     example: helleo  \n",
    "#      e is coming two times but we want to print only one time"
   ]
  },
  {
   "cell_type": "code",
   "execution_count": 5,
   "id": "d845f7ce",
   "metadata": {},
   "outputs": [
    {
     "name": "stdout",
     "output_type": "stream",
     "text": [
      "2 6 10 "
     ]
    }
   ],
   "source": [
    "# Q4) write a progarm to find the indexes of 'a' in a given string\n",
    "#     str1='ola ola ola'\n",
    "s='ola ola ola'\n",
    "n=len(s)\n",
    "for i in range(n):\n",
    "    if s[i]=='a':\n",
    "        print(i,end=\" \")\n"
   ]
  },
  {
   "cell_type": "code",
   "execution_count": 10,
   "id": "904c5c09",
   "metadata": {},
   "outputs": [
    {
     "name": "stdout",
     "output_type": "stream",
     "text": [
      "2 6 10 18\n"
     ]
    }
   ],
   "source": [
    "# Q5) write a program to find the sum of all indexes of 'a' in a given string\n",
    "#    str1='ola ola ola'\n",
    "s='ola ola ola'\n",
    "n=len(s)\n",
    "sum_index=0\n",
    "for i in range(n):\n",
    "    if s[i]=='a':\n",
    "        \n",
    "        sum_index += i\n",
    "print(sum_index)\n"
   ]
  },
  {
   "cell_type": "code",
   "execution_count": 12,
   "id": "1b3b2a38",
   "metadata": {},
   "outputs": [
    {
     "name": "stdout",
     "output_type": "stream",
     "text": [
      "3\n"
     ]
    }
   ],
   "source": [
    "# Q6) write a progarm to find the number of 'a' in a given string\n",
    "#    str1='ola ola ola'\n",
    "str1='ola ola ola'\n",
    "print(str1.count('a'))\n"
   ]
  },
  {
   "cell_type": "code",
   "execution_count": 20,
   "id": "4ee2c1b8",
   "metadata": {},
   "outputs": [
    {
     "name": "stdout",
     "output_type": "stream",
     "text": [
      "a = 2\n",
      "i = 1\n",
      "e = 1\n",
      "o = 2\n",
      "u = 1\n"
     ]
    }
   ],
   "source": [
    "# Q7) write a progarm to find the vowels and its count in a given string\n",
    "#    str1='hai how are you'\n",
    "str1='hai how are you'\n",
    "vowels=\"A,I,E,O,U,a,i,e,o,u\"\n",
    "for v in vowels:\n",
    "    if v in str1:\n",
    "        print(v, \"=\", str1.count(v))\n",
    "    "
   ]
  },
  {
   "cell_type": "code",
   "execution_count": 22,
   "id": "594df6e2",
   "metadata": {},
   "outputs": [],
   "source": [
    "# Q8) write a progarm to find the vowels which are repaeting then print only\n",
    "#     one time\n",
    "#     example: helleo  \n",
    "#      e is coming two times but we want to print only one time\n",
    "str1=\"helleo\"\n",
    "vowels=\"A,I,E,O,U,a,i,e,o,u\"\n",
    "found=[]\n",
    "for char in str1:\n",
    "    if char in vowels and char not in found:\n",
    "        found.append(char)\n",
    "        \n",
    "        "
   ]
  },
  {
   "cell_type": "code",
   "execution_count": null,
   "id": "c255a738",
   "metadata": {},
   "outputs": [],
   "source": []
  },
  {
   "cell_type": "code",
   "execution_count": null,
   "id": "b038293e",
   "metadata": {},
   "outputs": [],
   "source": []
  },
  {
   "cell_type": "code",
   "execution_count": null,
   "id": "cdb91f30",
   "metadata": {},
   "outputs": [],
   "source": []
  },
  {
   "cell_type": "code",
   "execution_count": null,
   "id": "f516578c",
   "metadata": {},
   "outputs": [],
   "source": []
  },
  {
   "cell_type": "code",
   "execution_count": null,
   "id": "17546faf",
   "metadata": {},
   "outputs": [],
   "source": []
  },
  {
   "cell_type": "code",
   "execution_count": null,
   "id": "ed9320b6",
   "metadata": {},
   "outputs": [],
   "source": []
  },
  {
   "cell_type": "code",
   "execution_count": null,
   "id": "4bfa18d1",
   "metadata": {},
   "outputs": [],
   "source": []
  },
  {
   "cell_type": "code",
   "execution_count": null,
   "id": "6dc30238",
   "metadata": {},
   "outputs": [],
   "source": []
  },
  {
   "cell_type": "code",
   "execution_count": null,
   "id": "af25561d",
   "metadata": {},
   "outputs": [],
   "source": []
  },
  {
   "cell_type": "code",
   "execution_count": null,
   "id": "88fe74a2",
   "metadata": {},
   "outputs": [],
   "source": []
  },
  {
   "cell_type": "code",
   "execution_count": null,
   "id": "bdb595ac",
   "metadata": {},
   "outputs": [],
   "source": []
  },
  {
   "cell_type": "code",
   "execution_count": null,
   "id": "4ee453c2",
   "metadata": {},
   "outputs": [],
   "source": []
  },
  {
   "cell_type": "code",
   "execution_count": null,
   "id": "fefc3cab",
   "metadata": {},
   "outputs": [],
   "source": []
  },
  {
   "cell_type": "code",
   "execution_count": null,
   "id": "46c7705b",
   "metadata": {},
   "outputs": [],
   "source": []
  },
  {
   "cell_type": "code",
   "execution_count": null,
   "id": "726625dc",
   "metadata": {},
   "outputs": [],
   "source": []
  },
  {
   "cell_type": "code",
   "execution_count": null,
   "id": "b880acc2",
   "metadata": {},
   "outputs": [],
   "source": []
  }
 ],
 "metadata": {
  "kernelspec": {
   "display_name": "Python 3 (ipykernel)",
   "language": "python",
   "name": "python3"
  },
  "language_info": {
   "codemirror_mode": {
    "name": "ipython",
    "version": 3
   },
   "file_extension": ".py",
   "mimetype": "text/x-python",
   "name": "python",
   "nbconvert_exporter": "python",
   "pygments_lexer": "ipython3",
   "version": "3.11.4"
  }
 },
 "nbformat": 4,
 "nbformat_minor": 5
}
